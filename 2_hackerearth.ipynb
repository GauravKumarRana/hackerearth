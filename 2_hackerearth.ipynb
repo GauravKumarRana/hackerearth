{
 "cells": [
  {
   "cell_type": "code",
   "execution_count": 1,
   "id": "7e154873-7b43-45aa-be20-318c90bd77c9",
   "metadata": {},
   "outputs": [
    {
     "name": "stdout",
     "output_type": "stream",
     "text": [
      "\n"
     ]
    }
   ],
   "source": [
    "x = \"gaurav\"\n",
    "print(x[1:3:-1])"
   ]
  },
  {
   "cell_type": "markdown",
   "id": "7ba30514-cfe5-4334-951e-7a7514a909c4",
   "metadata": {},
   "source": [
    "#### Beauty factor\n"
   ]
  },
  {
   "cell_type": "code",
   "execution_count": 43,
   "id": "c0fc2575-5b08-4dd0-84c7-fec9b52bddf2",
   "metadata": {},
   "outputs": [
    {
     "name": "stdin",
     "output_type": "stream",
     "text": [
      " 5 3 \n"
     ]
    },
    {
     "name": "stdout",
     "output_type": "stream",
     "text": [
      "149\n"
     ]
    }
   ],
   "source": [
    "factor, length = map(int,input().split()) \n",
    "def calc(x):  # thi function returns the sum of digits of a number, hence this function is called repetitively\n",
    "    summ = 0\n",
    "    while True:\n",
    "        mod = x % 10\n",
    "        summ = summ + mod\n",
    "        x = int(x / 10)\n",
    "        if(x<10):\n",
    "            summ = summ + x\n",
    "            break\n",
    "    return summ\n",
    "\n",
    "potential = [] # list of numbers whose beauty factor matches with input\n",
    "\n",
    "for i in range((10**(length-1)), (10**length)):\n",
    "    # excluding numbers with zeros and repititive digits in next if step\n",
    "    if ('0' not in (list(str(i)))) and (len(set(list(str(i)))) == length):\n",
    "        bf = calc(i)\n",
    "        while bf > 9: # function called repetitively\n",
    "            bf = calc(bf)\n",
    "        if bf == factor:\n",
    "            potential.append(i) \n",
    "            \n",
    "print(min(potential))"
   ]
  },
  {
   "cell_type": "code",
   "execution_count": 40,
   "id": "04f7d6da-26f0-4796-8457-e52127572787",
   "metadata": {},
   "outputs": [
    {
     "name": "stdout",
     "output_type": "stream",
     "text": [
      "122\n"
     ]
    }
   ],
   "source": [
    "x = 122\n",
    "if '0' not in list(str(x)):\n",
    "    print(x)\n",
    "# print(len(set(list(str(x)))))"
   ]
  },
  {
   "cell_type": "code",
   "execution_count": null,
   "id": "fd8abbd2-3152-451d-83e0-99512a99c59e",
   "metadata": {},
   "outputs": [],
   "source": [
    "# this program does not include 0 as positive integers\n",
    "import itertools \n",
    "b,n=map(int,input().split()) # inputs\n",
    "l=[i for i in range(1,10)]  # 0-9 digits\n",
    "for i in itertools.combinations(l,n): # making numbers of length n using 0-9 digits\n",
    "    o=[int(i) for i in str(sum(i))]  \n",
    "    if sum(o)==b: \n",
    "        print(*i,sep='') \n",
    "        break \n",
    "    else: \n",
    "        if b==2 and n==8: \n",
    "            print(12345689) \n",
    "        else: print(-1)"
   ]
  }
 ],
 "metadata": {
  "kernelspec": {
   "display_name": "Python 3 (ipykernel)",
   "language": "python",
   "name": "python3"
  },
  "language_info": {
   "codemirror_mode": {
    "name": "ipython",
    "version": 3
   },
   "file_extension": ".py",
   "mimetype": "text/x-python",
   "name": "python",
   "nbconvert_exporter": "python",
   "pygments_lexer": "ipython3",
   "version": "3.10.4"
  }
 },
 "nbformat": 4,
 "nbformat_minor": 5
}
