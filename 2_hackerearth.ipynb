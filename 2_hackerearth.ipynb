{
 "cells": [
  {
   "cell_type": "markdown",
   "id": "5da9521c-ef69-459c-8d69-5de0d6265651",
   "metadata": {},
   "source": [
    "A program with a runtime error is one that passed the interpreter’s syntax checks, and started to execute. However, during the execution of one of the statements in the program, an error occurred that caused the interpreter to stop executing the program and display an error message. Runtime errors are also called exceptions because they usually indicate that something exceptional (and bad) has happened.\n",
    "\n",
    "Here are some examples of common runtime errors you are sure to encounter:\n",
    "\n",
    "- Misspelled or incorrectly capitalized variable and function names\n",
    "\n",
    "- Attempts to perform operations (such as math operations) on data of the wrong type \n",
    "    (ex. attempting to subtract two variables that hold string values)\n",
    "\n",
    "- Dividing by zero\n",
    "\n",
    "- Attempts to use a type conversion function such as int on a value that can’t be converted to an int"
   ]
  },
  {
   "cell_type": "markdown",
   "id": "6636958e-877b-483e-90c0-b4b8e341b7f8",
   "metadata": {},
   "source": [
    "#### myDict.setdefault( a.count( val ) , [ ] ).append( val )\n",
    "- adding multiple values to a key in dictionary\n"
   ]
  },
  {
   "cell_type": "markdown",
   "id": "83955365-389a-4685-8d3e-beb40f45115f",
   "metadata": {},
   "source": [
    "#### max(test_list, key = len) \n",
    "- gives maximum length string in a list"
   ]
  },
  {
   "cell_type": "code",
   "execution_count": 1,
   "id": "7e154873-7b43-45aa-be20-318c90bd77c9",
   "metadata": {},
   "outputs": [
    {
     "name": "stdout",
     "output_type": "stream",
     "text": [
      "\n"
     ]
    }
   ],
   "source": [
    "x = \"gaurav\"\n",
    "print(x[1:3:-1])"
   ]
  },
  {
   "cell_type": "markdown",
   "id": "7ba30514-cfe5-4334-951e-7a7514a909c4",
   "metadata": {},
   "source": [
    "#### Beauty factor\n"
   ]
  },
  {
   "cell_type": "code",
   "execution_count": 43,
   "id": "c0fc2575-5b08-4dd0-84c7-fec9b52bddf2",
   "metadata": {},
   "outputs": [
    {
     "name": "stdin",
     "output_type": "stream",
     "text": [
      " 5 3 \n"
     ]
    },
    {
     "name": "stdout",
     "output_type": "stream",
     "text": [
      "149\n"
     ]
    }
   ],
   "source": [
    "factor, length = map(int,input().split()) \n",
    "def calc(x):  # thi function returns the sum of digits of a number, hence this function is called repetitively\n",
    "    summ = 0\n",
    "    while True:\n",
    "        mod = x % 10\n",
    "        summ = summ + mod\n",
    "        x = int(x / 10)\n",
    "        if(x<10):\n",
    "            summ = summ + x\n",
    "            break\n",
    "    return summ\n",
    "\n",
    "potential = [] # list of numbers whose beauty factor matches with input\n",
    "\n",
    "for i in range((10**(length-1)), (10**length)):\n",
    "    # excluding numbers with zeros and repititive digits in next if step\n",
    "    if ('0' not in (list(str(i)))) and (len(set(list(str(i)))) == length):\n",
    "        bf = calc(i)\n",
    "        while bf > 9: # function called repetitively\n",
    "            bf = calc(bf)\n",
    "        if bf == factor:\n",
    "            potential.append(i) \n",
    "            \n",
    "print(min(potential))"
   ]
  },
  {
   "cell_type": "code",
   "execution_count": null,
   "id": "fd8abbd2-3152-451d-83e0-99512a99c59e",
   "metadata": {},
   "outputs": [],
   "source": [
    "# this program does not include 0 as positive integers\n",
    "import itertools \n",
    "b,n=map(int,input().split()) # inputs\n",
    "l=[i for i in range(1,10)]  # 0-9 digits\n",
    "for i in itertools.combinations(l,n): # making numbers of length n using 0-9 digits\n",
    "    o=[int(i) for i in str(sum(i))]  \n",
    "    if sum(o)==b: \n",
    "        print(*i,sep='') \n",
    "        break \n",
    "    else: \n",
    "        if b==2 and n==8: \n",
    "            print(12345689) \n",
    "        else: print(-1)"
   ]
  },
  {
   "cell_type": "markdown",
   "id": "c3100793-507b-4cce-b2e7-85745e463135",
   "metadata": {},
   "source": [
    "#### Palindromic changes"
   ]
  },
  {
   "cell_type": "code",
   "execution_count": 16,
   "id": "6d4cf0ed-e99b-43f6-ba32-35e59e262814",
   "metadata": {},
   "outputs": [
    {
     "name": "stdin",
     "output_type": "stream",
     "text": [
      " mat\n",
      " 2\n",
      " m t 10\n",
      " a m 5\n"
     ]
    },
    {
     "name": "stdout",
     "output_type": "stream",
     "text": [
      "10\n"
     ]
    }
   ],
   "source": [
    "samp = input()\n",
    "a = int(input())\n",
    "cost_st = []\n",
    "for i in range(a):\n",
    "    cost_st.append((list(input().split())))\n",
    "cost_in = []\n",
    "for val in cost_st:\n",
    "    st = samp\n",
    "    if st == st[::-1]:\n",
    "        # print(0)\n",
    "        break\n",
    "    elif st.replace(val[0], val[1]) == st.replace(val[0], val[1])[::-1]:\n",
    "        cost_in.append(int(val[2]))\n",
    "    elif st.replace(val[1], val[0]) == st.replace(val[1], val[0])[::-1] :\n",
    "        cost_in.append(int(val[2]))\n",
    "print(min(cost_in))"
   ]
  },
  {
   "cell_type": "code",
   "execution_count": 28,
   "id": "4a46c6f1-4e31-4b06-9cad-923a66b786c9",
   "metadata": {},
   "outputs": [
    {
     "name": "stdin",
     "output_type": "stream",
     "text": [
      " mat\n",
      " 2\n",
      " m t 10\n",
      " a m 5\n"
     ]
    },
    {
     "name": "stdout",
     "output_type": "stream",
     "text": [
      "10\n"
     ]
    }
   ],
   "source": [
    "s = input()\n",
    "m = int(input())\n",
    " \n",
    " \n",
    "def floyd_warshall(adj):\n",
    "    dist = adj.copy()\n",
    "    for k in range(26):\n",
    "        for i in range(26):\n",
    "            for j in range(26):\n",
    "                dist[i][j] = min(dist[i][j], dist[i][k] + dist[k][j])\n",
    "    return dist\n",
    " \n",
    " \n",
    "graph = [[float('inf')] * 26 for _ in range(26)]\n",
    "for _ in range(m):\n",
    "    x, y, c = input().strip().split()\n",
    "    c = int(c)\n",
    "    x = ord(x) - 97\n",
    "    y = ord(y) - 97\n",
    "    graph[x][y] = min(graph[x][y], c)\n",
    "    graph[y][x] = min(graph[y][x], c)\n",
    "d = floyd_warshall(graph)\n",
    "ans = 0\n",
    "left = 0\n",
    "right = len(s) - 1\n",
    "while left < right:\n",
    "    if s[left] != s[right]:\n",
    "        x = ord(s[left]) - 97\n",
    "        y = ord(s[right]) - 97\n",
    "        ans += min(d[x][y], d[y][x])\n",
    "    left += 1\n",
    "    right -= 1\n",
    "print(ans)"
   ]
  },
  {
   "cell_type": "markdown",
   "id": "34f9c8c9-f527-4583-892d-171b5ddfa7f1",
   "metadata": {},
   "source": [
    "#### The maximum substring"
   ]
  },
  {
   "cell_type": "code",
   "execution_count": null,
   "id": "a74a6278-f5b8-452b-b9a2-bf4428300e54",
   "metadata": {},
   "outputs": [],
   "source": [
    "a = input()\n",
    "\n",
    "sub = []\n",
    "# calculate all teh substrings\n",
    "for i in range(len(a)):\n",
    "    for j in range(i+1,len(a)):\n",
    "        sub.append(a[i:j])\n",
    "        \n",
    "d_sub = set(sub) # make substrings distinct\n",
    "# calculate number of occurences\n",
    "occur = []\n",
    "for val in d_sub:\n",
    "    x = a.count(val)\n",
    "    occur.append(x)\n",
    "    \n",
    "maxm = max(occur) # maximum occurrence\n",
    "\n",
    "max_strings = []\n",
    "d_sub = list(d_sub)\n",
    "for i  in range(len(occur)):\n",
    "    if occur[i] == maxm:\n",
    "        max_strings.append(d_sub[i])\n",
    "\n",
    "for val in max_strings:\n",
    "    print(a.find(val))\n",
    "    "
   ]
  },
  {
   "cell_type": "code",
   "execution_count": 85,
   "id": "c2853951-eebb-4633-96e0-95748a740a10",
   "metadata": {},
   "outputs": [
    {
     "name": "stdin",
     "output_type": "stream",
     "text": [
      " xyzxyzabcabc\n"
     ]
    },
    {
     "name": "stdout",
     "output_type": "stream",
     "text": [
      "xyz\n"
     ]
    }
   ],
   "source": [
    "a = input()\n",
    "\n",
    "sub = []\n",
    "# calculate all teh substrings\n",
    "for i in range(len(a)):\n",
    "    for j in range(i+1,len(a)):\n",
    "        sub.append(a[i:j])\n",
    "        \n",
    "d_sub = list(set(sub)) # make substrings distinct\n",
    "\n",
    "myDict = {} # key = occurence integer ; value = list of strings having the integer value as occurrence\n",
    "for val in d_sub:\n",
    "    myDict.setdefault(a.count(val), []).append(val)\n",
    "\n",
    "leng = len(max(myDict[max(myDict.keys())], key = len))\n",
    "\n",
    "extr = []\n",
    "for val in myDict[max(myDict.keys())]:\n",
    "    if len(val) == leng:\n",
    "        extr.append(val)\n",
    "\n",
    "inde = {}\n",
    "for val in extr:\n",
    "    inde[a.find(val)] = val\n",
    "    \n",
    "sor = sorted(inde.keys())\n",
    "\n",
    "print(inde[sor[0]])    "
   ]
  },
  {
   "cell_type": "code",
   "execution_count": 83,
   "id": "ea8017cc-db39-42fa-8df8-91bb31468d00",
   "metadata": {},
   "outputs": [
    {
     "name": "stdout",
     "output_type": "stream",
     "text": [
      "{6: 'abc', 0: 'xyz'}\n"
     ]
    }
   ],
   "source": [
    "print(inde)"
   ]
  }
 ],
 "metadata": {
  "kernelspec": {
   "display_name": "Python 3 (ipykernel)",
   "language": "python",
   "name": "python3"
  },
  "language_info": {
   "codemirror_mode": {
    "name": "ipython",
    "version": 3
   },
   "file_extension": ".py",
   "mimetype": "text/x-python",
   "name": "python",
   "nbconvert_exporter": "python",
   "pygments_lexer": "ipython3",
   "version": "3.10.4"
  }
 },
 "nbformat": 4,
 "nbformat_minor": 5
}
