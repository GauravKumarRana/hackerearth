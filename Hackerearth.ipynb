{
 "cells": [
  {
   "cell_type": "markdown",
   "id": "31653738-49fe-47a3-acd2-289f2bc327cc",
   "metadata": {},
   "source": [
    "#### ASCII codes\n",
    "65 - 90  :  A-Z\n",
    "97 - 122 :  a-z\n",
    "\n",
    "The count() method returns the number of occurrences of a substring in the given string.\n",
    "\n",
    "''.join(set(sub))  ---> join function joins the elements into a string from a list, set, string.\n",
    "\n",
    "inputstring.replace(old_val, new_val)  ----> replace letters in a string"
   ]
  },
  {
   "cell_type": "markdown",
   "id": "2660f076-74aa-468f-84a5-766fb8c15f9f",
   "metadata": {},
   "source": [
    "#### 2 SUM problem : Using brute-force O(n*n) ; Using Dictionary-Linear time O(n)"
   ]
  },
  {
   "cell_type": "code",
   "execution_count": null,
   "id": "9f6f4ce8-0487-49dd-b90d-eba4091ed31d",
   "metadata": {},
   "outputs": [],
   "source": [
    "def two_sum(a,t):\n",
    "    lis = []\n",
    "    for i in range(0, len(a)):\n",
    "        for j in range(i+1,len(a)):\n",
    "            if int(a[i]) + int(a[j]) == t:\n",
    "                lis.append([i,j])\n",
    "    return lis\n",
    "a = list(input().split(','))\n",
    "t = int(input())\n",
    "print(two_sum(a,t))\n",
    "    "
   ]
  },
  {
   "cell_type": "code",
   "execution_count": 16,
   "id": "1f21be49-4798-4c35-abf9-574f68232468",
   "metadata": {},
   "outputs": [
    {
     "name": "stdin",
     "output_type": "stream",
     "text": [
      "Enter number of elements :  9\n",
      "\n",
      "Enter the numbers :   1 2 3 4 5 6 7 8 9\n",
      " 8\n"
     ]
    },
    {
     "name": "stdout",
     "output_type": "stream",
     "text": [
      "[[2, 4], [1, 5], [0, 6]]\n"
     ]
    }
   ],
   "source": [
    "def two_sum(a,t):\n",
    "    d = {}\n",
    "    lis = []\n",
    "    for i in range(0, len(a)):\n",
    "        com =  t - a[i]\n",
    "        if com not in d:\n",
    "            d[a[i]] = i\n",
    "        else:\n",
    "            lis.append([d[com], i])\n",
    "    return lis\n",
    "\n",
    "n = int(input(\"Enter number of elements : \"))\n",
    "a = list(map(int,input().strip().split()))[:n]\n",
    "a = list(map(int,input(\"\\nEnter the numbers : \").strip().split()))[:n]\n",
    "  \n",
    "        \n",
    "t = int(input())\n",
    "print(two_sum(a,t))\n"
   ]
  },
  {
   "cell_type": "markdown",
   "id": "2cdd95e8-9a1b-4f96-8390-21c95aa385bb",
   "metadata": {},
   "source": [
    "#### Count substring in string"
   ]
  },
  {
   "cell_type": "code",
   "execution_count": 3,
   "id": "72b19d99-acd6-4945-91d6-72dd99d82371",
   "metadata": {},
   "outputs": [
    {
     "name": "stdin",
     "output_type": "stream",
     "text": [
      " gauravgauravgaurav\n",
      " au\n"
     ]
    },
    {
     "name": "stdout",
     "output_type": "stream",
     "text": [
      "3\n"
     ]
    }
   ],
   "source": [
    "def count_substring(string, sub_string):\n",
    "    count = 0\n",
    "    lenb = len(sub_string)\n",
    "    for i in range(len(string)-lenb + 1):\n",
    "        x = string[i:lenb+i]\n",
    "        if x == sub_string:\n",
    "            count+=1\n",
    "    return count\n",
    "\n",
    "if __name__ == '__main__':\n",
    "    string = input().strip()\n",
    "    sub_string = input().strip()\n",
    "    \n",
    "    count = count_substring(string, sub_string)\n",
    "    print(count)"
   ]
  },
  {
   "cell_type": "markdown",
   "id": "cbe33d00-4dd6-4949-99ab-3554a415a20d",
   "metadata": {},
   "source": [
    "#### Split the string and make the letters of substring distinct"
   ]
  },
  {
   "cell_type": "code",
   "execution_count": 27,
   "id": "a8a77a3a-6a72-49b0-aae6-aae271212e5a",
   "metadata": {},
   "outputs": [
    {
     "name": "stdin",
     "output_type": "stream",
     "text": [
      " AABCAAADA\n",
      " 3\n"
     ]
    },
    {
     "name": "stdout",
     "output_type": "stream",
     "text": [
      "AB\n",
      "CA\n",
      "AD\n"
     ]
    }
   ],
   "source": [
    "def merge_the_tools(string, k):\n",
    "\n",
    "    lenb = len(string)\n",
    "    if lenb % k == 0:\n",
    "        j=0\n",
    "        for i in range(int(lenb/k)):\n",
    "            sub = string[j:j+k]\n",
    "            sub = ''.join(set(sub))\n",
    "            #print(sub)\n",
    "            print(sub[::-1])            \n",
    "            j+=k\n",
    "    else:\n",
    "        print (\"Given string cannot be divided into equal length substring.\")\n",
    "        print(\"Provide the string length as a multiple of {}\".format(k))\n",
    "        return 0\n",
    "    \n",
    "    \n",
    "if __name__ == '__main__':\n",
    "    string, k = input().strip(), int(input())\n",
    "    merge_the_tools(string, k)"
   ]
  },
  {
   "cell_type": "markdown",
   "id": "cd00efd7-c84c-416c-9c94-6998b3616958",
   "metadata": {},
   "source": [
    "#### The Minions Game \n",
    "used a  dictionary; key - \"substring\" and value \"number of occurence of substring in main sting\""
   ]
  },
  {
   "cell_type": "code",
   "execution_count": 55,
   "id": "b80d2e36-bb9e-4cd5-a2ca-c7a7ae95b16b",
   "metadata": {},
   "outputs": [
    {
     "name": "stdin",
     "output_type": "stream",
     "text": [
      " BAANANAS\n"
     ]
    },
    {
     "name": "stdout",
     "output_type": "stream",
     "text": [
      "Kevin 18\n",
      "[('A', 4), ('AA', 1), ('AAN', 1), ('AANA', 1), ('AANAN', 1), ('AANANA', 1), ('AANANAS', 1), ('AN', 2), ('ANA', 1), ('ANAN', 1), ('ANANA', 1), ('ANANAS', 1), ('ANAS', 1), ('AS', 1), ('B', 1), ('BA', 1), ('BAA', 1), ('BAAN', 1), ('BAANA', 1), ('BAANAN', 1), ('BAANANA', 1), ('BAANANAS', 1), ('N', 2), ('NA', 2), ('NAN', 1), ('NANA', 1), ('NANAS', 1), ('NAS', 1), ('S', 1)]\n"
     ]
    }
   ],
   "source": [
    "def minion_game(string):    \n",
    "    occur = {}\n",
    "    sum = 0\n",
    "    if string.isupper():\n",
    "        for i in range(len(string)):\n",
    "            for j in range(i + 1, len(string) + 1):\n",
    "                sub = string[i:j]\n",
    "                if sub not in occur:\n",
    "                    occur[sub] = string.count(sub)\n",
    "        kevin = stuart = 0\n",
    "        for val in occur:\n",
    "            if val[0] in ['A','E','I','O','U']:\n",
    "                kevin = kevin + occur[val]\n",
    "            else:\n",
    "                stuart = stuart + occur[val]\n",
    "        if(stuart > kevin):\n",
    "            print(\"Stuart \",stuart)\n",
    "        else:\n",
    "            print(\"Kevin\",kevin)    \n",
    "    else:\n",
    "        return 0\n",
    "    print(sorted(occur.items()))\n",
    "if __name__ == '__main__':\n",
    "    s = input()\n",
    "    minion_game(s)"
   ]
  },
  {
   "cell_type": "code",
   "execution_count": 60,
   "id": "168770cd-ed37-4efb-ad27-75ce8fee2cfb",
   "metadata": {},
   "outputs": [
    {
     "name": "stdout",
     "output_type": "stream",
     "text": [
      "<class 'list'>\n",
      "['A', 'A', 'A', 'A', 'AA', 'AAN', 'AANA', 'AANAN', 'AANANA', 'AANANAS', 'AN', 'AN', 'ANA', 'ANA', 'ANAN', 'ANANA', 'ANANAS', 'ANAS', 'AS', 'B', 'BA', 'BAA', 'BAAN', 'BAANA', 'BAANAN', 'BAANANA', 'BAANANAS', 'N', 'N', 'NA', 'NA', 'NAN', 'NANA', 'NANAS', 'NAS', 'S']\n"
     ]
    }
   ],
   "source": [
    "from itertools import combinations\n",
    "test_str = \"BAANANAS\"\n",
    "res = [test_str[x:y] for x, y in combinations(range(len(test_str) + 1), r = 2)]\n",
    "print(type(res))\n",
    "print(sorted(res))"
   ]
  },
  {
   "cell_type": "markdown",
   "id": "69b96019-57c6-4524-b4c1-8ac662fc3cfd",
   "metadata": {},
   "source": [
    "#### Cost of data\n",
    "calculate number of nodes required to store all strings."
   ]
  },
  {
   "cell_type": "code",
   "execution_count": null,
   "id": "c0a73b15-f35d-4884-a034-9bbcdd4891a5",
   "metadata": {},
   "outputs": [],
   "source": [
    "n = int(input())\n",
    "strings = []\n",
    "for i in range(n):\n",
    "    strings.append(input())\n",
    "\n",
    "max_len = max(strings, key = len) # longest string length\n",
    "\n",
    "count = 0  # stores total nodes\n",
    "chars = [] # temp variable for each loop\n",
    "for i in range(len(max_len)):\n",
    "    for val in strings: \n",
    "        if len(val) > i: # to avoid \"Error : index out of range\" in next step \n",
    "            chars.append(val[i])                        \n",
    "\n",
    "    unique = set(chars) # determines number of new nodes to add\n",
    "    count = count + len(unique) # updating total nodes \n",
    "    chars.clear()\n",
    "    \n",
    "print(count+1) # adding 1 NULL node as root node\n",
    "\n",
    "\n",
    "\n",
    "10\n",
    "wlrb\n",
    "mqbhcdarzowkkyhi\n",
    "dqscdxrj\n",
    "owf\n",
    "xsjybldb\n",
    "fsarc\n",
    "ynecdyggxxpklo\n",
    "ellnmp\n",
    "pqf\n",
    "\n",
    "khopkmcoqhnwnku"
   ]
  },
  {
   "cell_type": "code",
   "execution_count": 98,
   "id": "708d9b50-06da-417b-a4e0-39d012de1e7d",
   "metadata": {},
   "outputs": [
    {
     "name": "stdin",
     "output_type": "stream",
     "text": [
      " 5\n",
      " bt\n",
      " be\n",
      " et\n",
      " eq\n",
      " bdp\n"
     ]
    },
    {
     "name": "stdout",
     "output_type": "stream",
     "text": [
      "{'b': ['bdp', 'be', 'bt'], 'e': ['eq', 'et']}\n"
     ]
    }
   ],
   "source": [
    "n = int(input())\n",
    "strings = []\n",
    "for i in range(n):\n",
    "    strings.append(input())\n",
    "\n",
    "max_len = max(strings, key = len) # longest string length\n",
    "\n",
    "count = 0  # stores total nodes\n",
    "chars = [] # temp variable for each loop\n",
    "\n",
    "def ret_count():\n",
    "\n",
    "\n",
    "    strings = sorted(strings)    \n",
    "    for i in range(len(max_len)):\n",
    "        for val in strings: \n",
    "            if len(val) > i: # to avoid \"Error : index out of range\" in next step \n",
    "                chars.append(val[i])                        \n",
    "\n",
    "        unique = set(chars) # determines number of new nodes to add\n",
    "        count = count + len(unique) # updating total nodes \n",
    "        chars.clear()\n",
    "    \n",
    "print(count+1) # adding 1 NULL node as root node\n",
    "\n",
    "\n",
    "\n",
    "# 10\n",
    "# wlrb\n",
    "# mqbhcdarzowkkyhi\n",
    "# dqscdxrj\n",
    "# owf\n",
    "# xsjybldb\n",
    "# fsarc\n",
    "# ynecdyggxxpklo\n",
    "# ellnmp\n",
    "# pqf\n",
    "# khopkmcoqhnwnku"
   ]
  },
  {
   "cell_type": "code",
   "execution_count": null,
   "id": "9c41e49a-41e6-426c-85f0-2aedfce1cfd4",
   "metadata": {},
   "outputs": [],
   "source": [
    "n = int(input())\n",
    "strings = []\n",
    "for i in range(n):\n",
    "    strings.append(input())\n",
    "strings = sorted(strings)\n",
    "\n",
    "li_of_li = {}\n",
    "\n",
    "for i in range(len(strings)):\n",
    "    if ord(strings[i][0]) == ord(strings[i+1][0]): \n",
    "        li_of_li[] = (strings[i])\n",
    "        \n"
   ]
  },
  {
   "cell_type": "markdown",
   "id": "d8874530-b478-4b70-a89c-6f035c143582",
   "metadata": {},
   "source": [
    "#### Replace the Strings\n",
    "replace and swap places of letters in strings\n",
    "to see whether strings can be identical or not"
   ]
  },
  {
   "cell_type": "code",
   "execution_count": null,
   "id": "81164297-9ad1-4dc6-9adf-b3dbcc47476c",
   "metadata": {},
   "outputs": [],
   "source": [
    "n = input()\n",
    "for i in range(n):\n",
    "    X = input()\n",
    "    a = input()\n",
    "    b = input()\n",
    "\n",
    "    a = a.replace('?','A')\n",
    "    b = b.replace('?','A')\n",
    "\n",
    "    set_a = set(a)\n",
    "    set_b = set(b)\n",
    "\n",
    "    dict1 = {}\n",
    "    dict2 = {}\n",
    "\n",
    "    for val in set_a:\n",
    "        dict1[val] = a.count(val) \n",
    "    for val in set_b:\n",
    "        dict2[val] = b.count(val) \n",
    "\n",
    "    count = 0\n",
    "    for key in dict1:\n",
    "        if key in dict2:\n",
    "            if dict1[key] == dict2[key]:\n",
    "                pass\n",
    "            elif dict1[key] - dict2[key] == 1:\n",
    "                b.replace('A',key)\n",
    "            elif dict1[key] - dict2[key] == -1:\n",
    "                a.replace('A',key)\n",
    "            else:\n",
    "                count = 1\n",
    "        elif dict1[key] == 1:\n",
    "            b.replace('A',key)\n",
    "        else:\n",
    "            count = 1\n",
    "\n",
    "    if count == 0:\n",
    "        print(\"YES\")\n",
    "    else:\n",
    "        print(\"NO\")     \n",
    "\n",
    "\n",
    "    # Input\n",
    "    # 3\n",
    "    # 4\n",
    "    # abc?\n",
    "    # abc?\n",
    "    # 4\n",
    "    # aab?\n",
    "    # a?aa\n",
    "    # 5\n",
    "    # aaa?a\n",
    "    # bbbb?\n",
    "    # Output\n",
    "    # YES\n",
    "    # YES\n",
    "    # NO"
   ]
  },
  {
   "cell_type": "markdown",
   "id": "f0f2d170-3280-4cbd-acd5-faafd1ccfb82",
   "metadata": {},
   "source": [
    "## A beauty factor"
   ]
  }
 ],
 "metadata": {
  "kernelspec": {
   "display_name": "Python 3 (ipykernel)",
   "language": "python",
   "name": "python3"
  },
  "language_info": {
   "codemirror_mode": {
    "name": "ipython",
    "version": 3
   },
   "file_extension": ".py",
   "mimetype": "text/x-python",
   "name": "python",
   "nbconvert_exporter": "python",
   "pygments_lexer": "ipython3",
   "version": "3.10.4"
  }
 },
 "nbformat": 4,
 "nbformat_minor": 5
}
